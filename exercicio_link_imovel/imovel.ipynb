{
 "cells": [
  {
   "cell_type": "code",
   "execution_count": 14,
   "metadata": {},
   "outputs": [
    {
     "name": "stdout",
     "output_type": "stream",
     "text": [
      "50\n",
      "None\n"
     ]
    },
    {
     "data": {
      "text/html": [
       "<div>\n",
       "<style scoped>\n",
       "    .dataframe tbody tr th:only-of-type {\n",
       "        vertical-align: middle;\n",
       "    }\n",
       "\n",
       "    .dataframe tbody tr th {\n",
       "        vertical-align: top;\n",
       "    }\n",
       "\n",
       "    .dataframe thead th {\n",
       "        text-align: right;\n",
       "    }\n",
       "</style>\n",
       "<table border=\"1\" class=\"dataframe\">\n",
       "  <thead>\n",
       "    <tr style=\"text-align: right;\">\n",
       "      <th></th>\n",
       "      <th>QUARTOS</th>\n",
       "      <th>IMAGEM</th>\n",
       "    </tr>\n",
       "  </thead>\n",
       "  <tbody>\n",
       "    <tr>\n",
       "      <th>0</th>\n",
       "      <td>1</td>\n",
       "      <td>https://s3.amazonaws.com/static.nidoimovel.com.br/a3c65c2974270fd093ee8a9bf8ae7d0b/imovel/JA/JA18809/JA18809001.jpg?1603298622</td>\n",
       "    </tr>\n",
       "  </tbody>\n",
       "</table>\n",
       "</div>"
      ],
      "text/plain": [
       "  QUARTOS  \\\n",
       "0       1   \n",
       "\n",
       "                                                                                                                           IMAGEM  \n",
       "0  https://s3.amazonaws.com/static.nidoimovel.com.br/a3c65c2974270fd093ee8a9bf8ae7d0b/imovel/JA/JA18809/JA18809001.jpg?1603298622  "
      ]
     },
     "execution_count": 14,
     "metadata": {},
     "output_type": "execute_result"
    }
   ],
   "source": [
    "from selenium import webdriver\n",
    "import pandas as pd\n",
    "from bs4 import BeautifulSoup\n",
    "\n",
    "driver = webdriver.Firefox()\n",
    "driver.implicitly_wait(10)\n",
    "driver.get(\"https://www.novasaopaulo.com.br/imovel/locacao-casa-americanopolis-sao-paulo/JA18809\")\n",
    "\n",
    "html = driver.page_source.encode(\"utf-8\")\n",
    "\n",
    "soup = BeautifulSoup(html, \"lxml\")\n",
    "\n",
    "div_quarto = soup.find_all('div', {'class': 'icoImovelImovel'})\n",
    "# div_txt = divs[0].text\n",
    "# print(div_txt)\n",
    "qts_quartos = div_quarto[0].find_all('div')[0]\n",
    "quartos = qts_quartos.text.split()\n",
    "# print(type(quartos))\n",
    "quartos = dict(zip(quartos[::2], [quartos[1::2]]))\n",
    "\n",
    "div_img = soup.find_all('div', {'class': 'slick-slide slick-current slick-active'})\n",
    "# print(div_img[0].find('img'))\n",
    "link = div_img[0].find('img').get('src')\n",
    "# print(link)\n",
    "# print(type(link))\n",
    "link_img = {'IMAGEM': [link]}\n",
    "# print(link_img)\n",
    "\n",
    "# fundindo dicionarios\n",
    "quartos.update(link_img)\n",
    "\n",
    "df = pd.DataFrame(data=quartos)\n",
    "\n",
    "#print(pd.get_option('max_colwidth'))\n",
    "#print(pd.set_option('max_colwidth', None))\n",
    "\n",
    "df"
   ]
  },
  {
   "cell_type": "code",
   "execution_count": 6,
   "metadata": {},
   "outputs": [
    {
     "data": {
      "text/plain": [
       "Index(['QUARTOS', 'IMAGEM'], dtype='object')"
      ]
     },
     "execution_count": 6,
     "metadata": {},
     "output_type": "execute_result"
    }
   ],
   "source": [
    "df.columns"
   ]
  },
  {
   "cell_type": "code",
   "execution_count": null,
   "metadata": {},
   "outputs": [],
   "source": []
  }
 ],
 "metadata": {
  "kernelspec": {
   "display_name": "Python 3",
   "language": "python",
   "name": "python3"
  },
  "language_info": {
   "codemirror_mode": {
    "name": "ipython",
    "version": 3
   },
   "file_extension": ".py",
   "mimetype": "text/x-python",
   "name": "python",
   "nbconvert_exporter": "python",
   "pygments_lexer": "ipython3",
   "version": "3.8.6"
  }
 },
 "nbformat": 4,
 "nbformat_minor": 4
}
